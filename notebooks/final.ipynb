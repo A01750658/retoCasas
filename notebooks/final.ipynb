{
 "cells": [
  {
   "cell_type": "code",
   "execution_count": 121,
   "id": "95b7029d",
   "metadata": {},
   "outputs": [],
   "source": [
    "import pandas as pd\n",
    "import numpy as np\n",
    "import matplotlib.pyplot as plt\n",
    "\n",
    "import sys\n",
    "sys.path.append('..')\n",
    "from utils import plot_hist_per_columns, plot_scatter_per_columns, plot_box_per_columns, shapiro_wilk_test, outliers_detection, jarque_bera_test, QQPlot, log_transform\n",
    "\n",
    "from sklearn.model_selection import train_test_split\n",
    "from sklearn.linear_model import LinearRegression, Ridge\n",
    "from sklearn.ensemble import RandomForestRegressor\n",
    "from sklearn.metrics import mean_squared_error, r2_score\n",
    "\n",
    "import statsmodels.api as sm\n",
    "\n",
    "import warnings\n",
    "warnings.filterwarnings('ignore')\n",
    "\n",
    "pd.set_option('display.float_format', lambda x: '%.5f' % x)"
   ]
  },
  {
   "cell_type": "code",
   "execution_count": 86,
   "id": "c2505c16",
   "metadata": {},
   "outputs": [],
   "source": [
    "train_data = \"../data/train.csv\"\n",
    "test_data = \"../data/test.csv\"\n",
    "df_train = pd.read_csv(train_data)"
   ]
  },
  {
   "cell_type": "code",
   "execution_count": 87,
   "id": "e8631185",
   "metadata": {},
   "outputs": [
    {
     "name": "stdout",
     "output_type": "stream",
     "text": [
      "Alley          % 93.77\n",
      "MasVnrType     % 59.73\n",
      "FireplaceQu    % 47.26\n",
      "PoolQC         % 99.52\n",
      "Fence          % 80.75\n",
      "MiscFeature     % 96.3\n",
      "dtype: object\n",
      "\n",
      "Data has no duplicated values.\n"
     ]
    },
    {
     "data": {
      "text/plain": [
       "Index(['Alley', 'PoolQC', 'Fence', 'MiscFeature'], dtype='object')"
      ]
     },
     "execution_count": 87,
     "metadata": {},
     "output_type": "execute_result"
    }
   ],
   "source": [
    "missing_perc = df_train.isna().mean() * 100\n",
    "missing_selected = missing_perc[missing_perc > 40]\n",
    "\n",
    "missing_selected = missing_selected.apply(lambda x: \"% \" + str(round(x, 2)))\n",
    "\n",
    "if (missing_perc > 0).any():\n",
    "    print(missing_selected)\n",
    "else:\n",
    "    print(\"No missing values\")\n",
    "\n",
    "print()\n",
    "\n",
    "if (df_train.duplicated().any()):\n",
    "    print(\"Data has duplicated values.\")\n",
    "else:\n",
    "    print(\"Data has no duplicated values.\")\n",
    "\n",
    "data_to_delete = missing_selected[missing_selected > \"% 60\"].index\n",
    "data_to_delete"
   ]
  },
  {
   "cell_type": "code",
   "execution_count": 88,
   "id": "e5082371",
   "metadata": {},
   "outputs": [],
   "source": [
    "df_train_cat = df_train.select_dtypes(include=['object'])\n",
    "try:\n",
    "    df_train_cat_dummies = pd.get_dummies(df_train_cat, drop_first=True)\n",
    "    for col in df_train_cat_dummies.columns:\n",
    "        df_train_cat_dummies[col] = df_train_cat_dummies[col].astype(int)\n",
    "except:\n",
    "    pass\n",
    "\n",
    "df_train_num = df_train.select_dtypes(include=['float64', 'int64'])\n",
    "\n",
    "df_train = pd.concat([df_train_num, df_train_cat_dummies], axis=1)\n",
    "df_train.index = df_train.pop('Id')\n"
   ]
  },
  {
   "cell_type": "code",
   "execution_count": 89,
   "id": "e1f00115",
   "metadata": {},
   "outputs": [],
   "source": [
    "df_train['SalePrice'] = log_transform(df_train['SalePrice'])"
   ]
  },
  {
   "cell_type": "code",
   "execution_count": 90,
   "id": "9e12453c",
   "metadata": {},
   "outputs": [
    {
     "data": {
      "text/plain": [
       "OverallQual         0.817184\n",
       "GrLivArea           0.700927\n",
       "GarageCars          0.680625\n",
       "GarageArea          0.650888\n",
       "TotalBsmtSF         0.612134\n",
       "1stFlrSF            0.596981\n",
       "ExterQual_TA        0.595881\n",
       "FullBath            0.594771\n",
       "YearBuilt           0.586570\n",
       "YearRemodAdd        0.565608\n",
       "GarageYrBlt         0.541073\n",
       "KitchenQual_TA      0.538237\n",
       "TotRmsAbvGrd        0.534422\n",
       "Foundation_PConc    0.530840\n",
       "ExterQual_Gd        0.509675\n",
       "Name: SalePrice, dtype: float64"
      ]
     },
     "execution_count": 90,
     "metadata": {},
     "output_type": "execute_result"
    }
   ],
   "source": [
    "corr = df_train.corr()['SalePrice'].sort_values(ascending=False).drop('SalePrice')\n",
    "corr_abs = corr.abs().sort_values(ascending=False)\n",
    "corr_abs_selected = corr_abs[corr_abs > 0.5]\n",
    "corr_abs_selected"
   ]
  },
  {
   "cell_type": "code",
   "execution_count": 105,
   "id": "d45df5a3",
   "metadata": {},
   "outputs": [
    {
     "name": "stdout",
     "output_type": "stream",
     "text": [
      "Outliers encontrados y tratados con la mediana.\n"
     ]
    }
   ],
   "source": [
    "for col in corr_abs_selected.index:\n",
    "    outliers_vals = outliers_detection(df_train[col])\n",
    "    if outliers_vals:\n",
    "        mask = df_train[col].isin(outliers_vals)\n",
    "        df_train.loc[mask, col] = df_train[col].median()\n",
    "\n",
    "sp_outliers = outliers_detection(df_train['SalePrice'])\n",
    "if sp_outliers:\n",
    "    sp_mask = df_train['SalePrice'].isin(sp_outliers)\n",
    "    df_train.loc[sp_mask, 'SalePrice'] = df_train['SalePrice'].median()\n",
    "\n",
    "print(\"Outliers encontrados y tratados con la mediana.\")"
   ]
  },
  {
   "cell_type": "code",
   "execution_count": 114,
   "id": "bf36da4e",
   "metadata": {},
   "outputs": [
    {
     "name": "stdout",
     "output_type": "stream",
     "text": [
      "                            OLS Regression Results                            \n",
      "==============================================================================\n",
      "Dep. Variable:              SalePrice   R-squared:                       0.825\n",
      "Model:                            OLS   Adj. R-squared:                  0.823\n",
      "Method:                 Least Squares   F-statistic:                     454.2\n",
      "Date:                Fri, 22 Aug 2025   Prob (F-statistic):               0.00\n",
      "Time:                        20:57:34   Log-Likelihood:                 541.46\n",
      "No. Observations:                1460   AIC:                            -1051.\n",
      "Df Residuals:                    1444   BIC:                            -966.3\n",
      "Df Model:                          15                                         \n",
      "Covariance Type:            nonrobust                                         \n",
      "====================================================================================\n",
      "                       coef    std err          t      P>|t|      [0.025      0.975]\n",
      "------------------------------------------------------------------------------------\n",
      "const                3.7923      0.713      5.320      0.000       2.394       5.190\n",
      "OverallQual          0.0938      0.006     16.946      0.000       0.083       0.105\n",
      "GrLivArea            0.0002   1.74e-05     11.295      0.000       0.000       0.000\n",
      "GarageCars           0.0606      0.014      4.427      0.000       0.034       0.087\n",
      "GarageArea           0.0001   4.69e-05      2.255      0.024    1.38e-05       0.000\n",
      "TotalBsmtSF       9.557e-05   1.92e-05      4.976      0.000    5.79e-05       0.000\n",
      "1stFlrSF          4.886e-05   2.22e-05      2.203      0.028    5.36e-06    9.24e-05\n",
      "ExterQual_TA         0.0288      0.025      1.149      0.251      -0.020       0.078\n",
      "FullBath            -0.0168      0.012     -1.395      0.163      -0.040       0.007\n",
      "YearBuilt            0.0026      0.000      9.563      0.000       0.002       0.003\n",
      "YearRemodAdd         0.0023      0.000      7.559      0.000       0.002       0.003\n",
      "GarageYrBlt         -0.0014      0.000     -4.364      0.000      -0.002      -0.001\n",
      "KitchenQual_TA      -0.0360      0.013     -2.799      0.005      -0.061      -0.011\n",
      "TotRmsAbvGrd         0.0159      0.005      3.375      0.001       0.007       0.025\n",
      "Foundation_PConc    -0.0032      0.014     -0.232      0.816      -0.030       0.024\n",
      "ExterQual_Gd         0.0169      0.023      0.739      0.460      -0.028       0.062\n",
      "==============================================================================\n",
      "Omnibus:                      910.375   Durbin-Watson:                   1.979\n",
      "Prob(Omnibus):                  0.000   Jarque-Bera (JB):            30474.430\n",
      "Skew:                          -2.357   Prob(JB):                         0.00\n",
      "Kurtosis:                      24.880   Cond. No.                     6.66e+05\n",
      "==============================================================================\n",
      "\n",
      "Notes:\n",
      "[1] Standard Errors assume that the covariance matrix of the errors is correctly specified.\n",
      "[2] The condition number is large, 6.66e+05. This might indicate that there are\n",
      "strong multicollinearity or other numerical problems.\n"
     ]
    }
   ],
   "source": [
    "X = df_train[corr_abs_selected.index].fillna(df_train[corr_abs_selected.index].mean())\n",
    "y = df_train[\"SalePrice\"]\n",
    "\n",
    "X = sm.add_constant(X)\n",
    "model = sm.OLS(y, X).fit()\n",
    "\n",
    "print(model.summary())"
   ]
  },
  {
   "cell_type": "code",
   "execution_count": 134,
   "id": "13780792",
   "metadata": {},
   "outputs": [],
   "source": [
    "columnas_significativas = model.pvalues < 0.05 \n",
    "columnas_significativas = columnas_significativas[columnas_significativas].index\n",
    "columnas_significativas = columnas_significativas.drop('const')"
   ]
  },
  {
   "cell_type": "code",
   "execution_count": 147,
   "id": "2c7be8e1",
   "metadata": {},
   "outputs": [
    {
     "name": "stdout",
     "output_type": "stream",
     "text": [
      "Mean squared error: 0.03\n",
      "Root mean squared error: 0.17\n",
      "Coefficient of determination: 0.85\n"
     ]
    }
   ],
   "source": [
    "X_significativo = df_train[columnas_significativas].fillna(df_train[columnas_significativas].median())\n",
    "y = df_train['SalePrice']\n",
    "\n",
    "model = LinearRegression()\n",
    "\n",
    "X_train, X_test, y_train, y_test = train_test_split(X_significativo, y, test_size=0.2, random_state=42)\n",
    "\n",
    "model.fit(X_train, y_train)\n",
    "\n",
    "y_pred = model.predict(X_test)\n",
    "\n",
    "print(\"Mean squared error: %.2f\" % mean_squared_error(y_test, y_pred))\n",
    "print(\"Root mean squared error: %.2f\" % np.sqrt(mean_squared_error(y_test, y_pred)))\n",
    "print(\"Coefficient of determination: %.2f\" % r2_score(y_test, y_pred))"
   ]
  },
  {
   "cell_type": "code",
   "execution_count": 177,
   "id": "f311978e",
   "metadata": {},
   "outputs": [
    {
     "name": "stdout",
     "output_type": "stream",
     "text": [
      "Mean squared error: 0.01513\n",
      "Root mean squared error:  0.123005\n",
      "Coefficient of determination: 0.91282\n"
     ]
    }
   ],
   "source": [
    "np.random.seed(1)\n",
    "\n",
    "X = df_train.drop('SalePrice', axis=1).fillna(df_train.mean())\n",
    "y = df_train['SalePrice']\n",
    "\n",
    "X_train, X_test, y_train, y_test = train_test_split(X, y, test_size=0.2)\n",
    "\n",
    "\n",
    "ridge = Ridge(alpha=1.0)\n",
    "ridge.fit(X_train, y_train)\n",
    "\n",
    "y_pred = ridge.predict(X_test)\n",
    "\n",
    "print(\"Mean squared error: %.5f\" % mean_squared_error(y_test, y_pred))\n",
    "print(\"Root mean squared error: % 5f\" % np.sqrt(mean_squared_error(y_test, y_pred)))\n",
    "print(\"Coefficient of determination: %.5f\" % r2_score(y_test, y_pred))"
   ]
  },
  {
   "cell_type": "code",
   "execution_count": null,
   "id": "47926718",
   "metadata": {},
   "outputs": [
    {
     "ename": "KeyError",
     "evalue": "4",
     "output_type": "error",
     "traceback": [
      "\u001b[31m---------------------------------------------------------------------------\u001b[39m",
      "\u001b[31mKeyError\u001b[39m                                  Traceback (most recent call last)",
      "\u001b[36mFile \u001b[39m\u001b[32m/opt/miniconda3/envs/Reto_housing/lib/python3.12/site-packages/pandas/core/indexes/base.py:3812\u001b[39m, in \u001b[36mIndex.get_loc\u001b[39m\u001b[34m(self, key)\u001b[39m\n\u001b[32m   3811\u001b[39m \u001b[38;5;28;01mtry\u001b[39;00m:\n\u001b[32m-> \u001b[39m\u001b[32m3812\u001b[39m     \u001b[38;5;28;01mreturn\u001b[39;00m \u001b[38;5;28;43mself\u001b[39;49m\u001b[43m.\u001b[49m\u001b[43m_engine\u001b[49m\u001b[43m.\u001b[49m\u001b[43mget_loc\u001b[49m\u001b[43m(\u001b[49m\u001b[43mcasted_key\u001b[49m\u001b[43m)\u001b[49m\n\u001b[32m   3813\u001b[39m \u001b[38;5;28;01mexcept\u001b[39;00m \u001b[38;5;167;01mKeyError\u001b[39;00m \u001b[38;5;28;01mas\u001b[39;00m err:\n",
      "\u001b[36mFile \u001b[39m\u001b[32mpandas/_libs/index.pyx:167\u001b[39m, in \u001b[36mpandas._libs.index.IndexEngine.get_loc\u001b[39m\u001b[34m()\u001b[39m\n",
      "\u001b[36mFile \u001b[39m\u001b[32mpandas/_libs/index.pyx:196\u001b[39m, in \u001b[36mpandas._libs.index.IndexEngine.get_loc\u001b[39m\u001b[34m()\u001b[39m\n",
      "\u001b[36mFile \u001b[39m\u001b[32mpandas/_libs/hashtable_class_helper.pxi:7088\u001b[39m, in \u001b[36mpandas._libs.hashtable.PyObjectHashTable.get_item\u001b[39m\u001b[34m()\u001b[39m\n",
      "\u001b[36mFile \u001b[39m\u001b[32mpandas/_libs/hashtable_class_helper.pxi:7096\u001b[39m, in \u001b[36mpandas._libs.hashtable.PyObjectHashTable.get_item\u001b[39m\u001b[34m()\u001b[39m\n",
      "\u001b[31mKeyError\u001b[39m: 4",
      "\nThe above exception was the direct cause of the following exception:\n",
      "\u001b[31mKeyError\u001b[39m                                  Traceback (most recent call last)",
      "\u001b[36mCell\u001b[39m\u001b[36m \u001b[39m\u001b[32mIn[176]\u001b[39m\u001b[32m, line 2\u001b[39m\n\u001b[32m      1\u001b[39m log_returns = pd.DataFrame(y_test - y_pred, columns=[\u001b[33m'\u001b[39m\u001b[33mlog_returns\u001b[39m\u001b[33m'\u001b[39m])\n\u001b[32m----> \u001b[39m\u001b[32m2\u001b[39m log_returns_no_ouliers = \u001b[43moutliers_detection\u001b[49m\u001b[43m(\u001b[49m\u001b[43mlog_returns\u001b[49m\u001b[43m)\u001b[49m\n\u001b[32m      3\u001b[39m log_returns_no_ouliers = log_returns[log_returns.index.isin(log_returns_no_ouliers)]\n\u001b[32m      6\u001b[39m plt.figure(figsize=(\u001b[32m8\u001b[39m,\u001b[32m5\u001b[39m))\n",
      "\u001b[36mFile \u001b[39m\u001b[32m~/Library/CloudStorage/OneDrive-InstitutoTecnologicoydeEstudiosSuperioresdeMonterrey/TEC/Semestre Tec IA Avanzada/Modulo Reto Andrea/retoCasas/notebooks/../utils.py:120\u001b[39m, in \u001b[36moutliers_detection\u001b[39m\u001b[34m(df)\u001b[39m\n\u001b[32m    118\u001b[39m \u001b[38;5;28;01mdef\u001b[39;00m\u001b[38;5;250m \u001b[39m\u001b[34moutliers_detection\u001b[39m(df: pd.Series = \u001b[38;5;28;01mNone\u001b[39;00m) -> np.array: \n\u001b[32m    119\u001b[39m     description = df.describe() \n\u001b[32m--> \u001b[39m\u001b[32m120\u001b[39m     Q1 = \u001b[43mdescription\u001b[49m\u001b[43m[\u001b[49m\u001b[32;43m4\u001b[39;49m\u001b[43m]\u001b[49m \n\u001b[32m    121\u001b[39m     Q3 = description[\u001b[32m6\u001b[39m] \n\u001b[32m    122\u001b[39m     IQR = Q3 - Q1 \n",
      "\u001b[36mFile \u001b[39m\u001b[32m/opt/miniconda3/envs/Reto_housing/lib/python3.12/site-packages/pandas/core/frame.py:4107\u001b[39m, in \u001b[36mDataFrame.__getitem__\u001b[39m\u001b[34m(self, key)\u001b[39m\n\u001b[32m   4105\u001b[39m \u001b[38;5;28;01mif\u001b[39;00m \u001b[38;5;28mself\u001b[39m.columns.nlevels > \u001b[32m1\u001b[39m:\n\u001b[32m   4106\u001b[39m     \u001b[38;5;28;01mreturn\u001b[39;00m \u001b[38;5;28mself\u001b[39m._getitem_multilevel(key)\n\u001b[32m-> \u001b[39m\u001b[32m4107\u001b[39m indexer = \u001b[38;5;28;43mself\u001b[39;49m\u001b[43m.\u001b[49m\u001b[43mcolumns\u001b[49m\u001b[43m.\u001b[49m\u001b[43mget_loc\u001b[49m\u001b[43m(\u001b[49m\u001b[43mkey\u001b[49m\u001b[43m)\u001b[49m\n\u001b[32m   4108\u001b[39m \u001b[38;5;28;01mif\u001b[39;00m is_integer(indexer):\n\u001b[32m   4109\u001b[39m     indexer = [indexer]\n",
      "\u001b[36mFile \u001b[39m\u001b[32m/opt/miniconda3/envs/Reto_housing/lib/python3.12/site-packages/pandas/core/indexes/base.py:3819\u001b[39m, in \u001b[36mIndex.get_loc\u001b[39m\u001b[34m(self, key)\u001b[39m\n\u001b[32m   3814\u001b[39m     \u001b[38;5;28;01mif\u001b[39;00m \u001b[38;5;28misinstance\u001b[39m(casted_key, \u001b[38;5;28mslice\u001b[39m) \u001b[38;5;129;01mor\u001b[39;00m (\n\u001b[32m   3815\u001b[39m         \u001b[38;5;28misinstance\u001b[39m(casted_key, abc.Iterable)\n\u001b[32m   3816\u001b[39m         \u001b[38;5;129;01mand\u001b[39;00m \u001b[38;5;28many\u001b[39m(\u001b[38;5;28misinstance\u001b[39m(x, \u001b[38;5;28mslice\u001b[39m) \u001b[38;5;28;01mfor\u001b[39;00m x \u001b[38;5;129;01min\u001b[39;00m casted_key)\n\u001b[32m   3817\u001b[39m     ):\n\u001b[32m   3818\u001b[39m         \u001b[38;5;28;01mraise\u001b[39;00m InvalidIndexError(key)\n\u001b[32m-> \u001b[39m\u001b[32m3819\u001b[39m     \u001b[38;5;28;01mraise\u001b[39;00m \u001b[38;5;167;01mKeyError\u001b[39;00m(key) \u001b[38;5;28;01mfrom\u001b[39;00m\u001b[38;5;250m \u001b[39m\u001b[34;01merr\u001b[39;00m\n\u001b[32m   3820\u001b[39m \u001b[38;5;28;01mexcept\u001b[39;00m \u001b[38;5;167;01mTypeError\u001b[39;00m:\n\u001b[32m   3821\u001b[39m     \u001b[38;5;66;03m# If we have a listlike key, _check_indexing_error will raise\u001b[39;00m\n\u001b[32m   3822\u001b[39m     \u001b[38;5;66;03m#  InvalidIndexError. Otherwise we fall through and re-raise\u001b[39;00m\n\u001b[32m   3823\u001b[39m     \u001b[38;5;66;03m#  the TypeError.\u001b[39;00m\n\u001b[32m   3824\u001b[39m     \u001b[38;5;28mself\u001b[39m._check_indexing_error(key)\n",
      "\u001b[31mKeyError\u001b[39m: 4"
     ]
    }
   ],
   "source": [
    "log_returns = pd.DataFrame(y_test - y_pred, columns=['log_returns'])\n",
    "log_returns_no_ouliers = outliers_detection(log_returns)\n",
    "log_returns_no_ouliers = log_returns[log_returns.index.isin(log_returns_no_ouliers)]\n",
    "\n",
    "plt.figure(figsize=(8,5))\n",
    "plt.hist(log_returns, bins=50)\n",
    "plt.title('Histogram of log returns')\n",
    "plt.grid(1)\n",
    "plt.show()"
   ]
  },
  {
   "cell_type": "code",
   "execution_count": null,
   "id": "9e139eb3",
   "metadata": {},
   "outputs": [],
   "source": []
  }
 ],
 "metadata": {
  "kernelspec": {
   "display_name": "Reto_housing",
   "language": "python",
   "name": "python3"
  },
  "language_info": {
   "codemirror_mode": {
    "name": "ipython",
    "version": 3
   },
   "file_extension": ".py",
   "mimetype": "text/x-python",
   "name": "python",
   "nbconvert_exporter": "python",
   "pygments_lexer": "ipython3",
   "version": "3.12.11"
  }
 },
 "nbformat": 4,
 "nbformat_minor": 5
}
