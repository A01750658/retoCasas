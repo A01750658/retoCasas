{
 "cells": [
  {
   "cell_type": "markdown",
   "id": "c124ab1f",
   "metadata": {},
   "source": [
    "Importamos librerias"
   ]
  },
  {
   "cell_type": "code",
   "execution_count": 87,
   "id": "5e8a9de7",
   "metadata": {},
   "outputs": [],
   "source": [
    "import joblib\n",
    "import os\n",
    "\n",
    "import pandas as pd\n",
    "import numpy as np\n",
    "\n",
    "import sys\n",
    "sys.path.append('../../')\n",
    "#from utils_yose import build_preprocessor\n",
    "\n",
    "import warnings\n",
    "warnings.filterwarnings('ignore')\n",
    "pd.set_option('display.float_format', lambda x: '%.5f' % x)"
   ]
  },
  {
   "cell_type": "markdown",
   "id": "ca44d6e3",
   "metadata": {},
   "source": [
    "Cargar archivos necesarios"
   ]
  },
  {
   "cell_type": "code",
   "execution_count": null,
   "id": "dc789424",
   "metadata": {},
   "outputs": [],
   "source": [
    "model_dir = \"../../models/pipemodelFINAL\"\n",
    "data_dir = \"../../../data/housing_data\"\n",
    "\n",
    "final_pipe_lasso = joblib.load(os.path.join(model_dir, \"final_pipe_lasso.joblib\"))\n",
    "final_pipe_lgbm = joblib.load(os.path.join(model_dir, \"final_pipe_lgbm.joblib\"))\n",
    "final_pipe_cat = joblib.load(os.path.join(model_dir, \"final_pipe_catboost.joblib\"))\n",
    "final_pipe_ridge = joblib.load(os.path.join(model_dir, \"final_pipe_ridge.joblib\"))\n",
    "\n",
    "opt_weights = pd.read_json(os.path.join(model_dir, \"meta.json\"))['ensemble_weights'].dropna()\n",
    "\n",
    "def predict_3pipes(X, weights=opt_weights):\n",
    "    return np.expm1(final_pipe_lasso.predict(X) * weights[\"lasso\"] + final_pipe_ridge.predict(X) * weights[\"ridge\"] + final_pipe_cat.predict(X) * weights[\"catboost\"] + final_pipe_lgbm.predict(X) * weights[\"lgbm\"])\n",
    "\n",
    "df_test = pd.read_csv(os.path.join(data_dir, \"train.csv\"))"
   ]
  },
  {
   "cell_type": "markdown",
   "id": "e4b833a4",
   "metadata": {},
   "source": [
    "process input data"
   ]
  },
  {
   "cell_type": "code",
   "execution_count": 89,
   "id": "353aeb65",
   "metadata": {},
   "outputs": [
    {
     "name": "stdout",
     "output_type": "stream",
     "text": [
      "RMSE: 7374.15071\n",
      "R2: 0.99138\n"
     ]
    }
   ],
   "source": [
    "from sklearn.metrics import mean_squared_error, r2_score\n",
    "\n",
    "X = df_test.drop([\"SalePrice\", \"Id\"], axis=1)\n",
    "y = df_test[\"SalePrice\"].astype(float)\n",
    "\n",
    "y_pred = predict_3pipes(X)\n",
    "\n",
    "rmse = np.sqrt(mean_squared_error(y, y_pred))\n",
    "r2 = r2_score(y, y_pred)\n",
    "\n",
    "print(f\"RMSE: {rmse:.5f}\")\n",
    "print(f\"R2: {r2:.5f}\")"
   ]
  },
  {
   "cell_type": "code",
   "execution_count": null,
   "id": "248ae3d8",
   "metadata": {},
   "outputs": [],
   "source": []
  }
 ],
 "metadata": {
  "kernelspec": {
   "display_name": "Reto_housing",
   "language": "python",
   "name": "python3"
  },
  "language_info": {
   "codemirror_mode": {
    "name": "ipython",
    "version": 3
   },
   "file_extension": ".py",
   "mimetype": "text/x-python",
   "name": "python",
   "nbconvert_exporter": "python",
   "pygments_lexer": "ipython3",
   "version": "3.12.11"
  }
 },
 "nbformat": 4,
 "nbformat_minor": 5
}
